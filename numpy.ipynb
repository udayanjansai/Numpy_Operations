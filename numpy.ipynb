{
  "nbformat": 4,
  "nbformat_minor": 0,
  "metadata": {
    "colab": {
      "provenance": [],
      "authorship_tag": "ABX9TyONV8uakd7RIhbrYKMXfJEq",
      "include_colab_link": true
    },
    "kernelspec": {
      "name": "python3",
      "display_name": "Python 3"
    },
    "language_info": {
      "name": "python"
    }
  },
  "cells": [
    {
      "cell_type": "markdown",
      "metadata": {
        "id": "view-in-github",
        "colab_type": "text"
      },
      "source": [
        "<a href=\"https://colab.research.google.com/github/udayanjansai/Numpy_Operations/blob/main/numpy.ipynb\" target=\"_parent\"><img src=\"https://colab.research.google.com/assets/colab-badge.svg\" alt=\"Open In Colab\"/></a>"
      ]
    },
    {
      "cell_type": "code",
      "execution_count": 1,
      "metadata": {
        "colab": {
          "base_uri": "https://localhost:8080/"
        },
        "id": "inHwCnuCCD3Z",
        "outputId": "8b80e8bc-2db9-4882-a48d-3bbdb2b9ce83"
      },
      "outputs": [
        {
          "output_type": "stream",
          "name": "stdout",
          "text": [
            "Requirement already satisfied: numpy in /usr/local/lib/python3.12/dist-packages (2.0.2)\n"
          ]
        }
      ],
      "source": [
        "pip install numpy\n"
      ]
    },
    {
      "cell_type": "code",
      "source": [
        "import numpy as np"
      ],
      "metadata": {
        "id": "UZgDAlu6Cu5f"
      },
      "execution_count": 3,
      "outputs": []
    },
    {
      "cell_type": "code",
      "source": [
        "arr1=np.array([1,2,3])\n",
        "print(arr1)"
      ],
      "metadata": {
        "colab": {
          "base_uri": "https://localhost:8080/"
        },
        "id": "Jg3QJX9PC3Cd",
        "outputId": "aa9ed054-8fce-4977-9936-7b925510efbf"
      },
      "execution_count": 4,
      "outputs": [
        {
          "output_type": "stream",
          "name": "stdout",
          "text": [
            "[1 2 3]\n"
          ]
        }
      ]
    },
    {
      "cell_type": "code",
      "source": [
        "arr2=np.array([[1,2,3],[4,5,6]])\n",
        "print(arr2)\n",
        "print(np.ndim(arr2))\n",
        "np.zeros((3,4))"
      ],
      "metadata": {
        "colab": {
          "base_uri": "https://localhost:8080/"
        },
        "id": "_Z6OTfZODpVr",
        "outputId": "044e644b-8e7d-42a5-dae9-3e9245cdd19f"
      },
      "execution_count": 8,
      "outputs": [
        {
          "output_type": "stream",
          "name": "stdout",
          "text": [
            "[[1 2 3]\n",
            " [4 5 6]]\n",
            "2\n"
          ]
        },
        {
          "output_type": "execute_result",
          "data": {
            "text/plain": [
              "array([[0., 0., 0., 0.],\n",
              "       [0., 0., 0., 0.],\n",
              "       [0., 0., 0., 0.]])"
            ]
          },
          "metadata": {},
          "execution_count": 8
        }
      ]
    },
    {
      "cell_type": "code",
      "source": [
        "ones=np.ones((2,2))\n",
        "print(ones)"
      ],
      "metadata": {
        "colab": {
          "base_uri": "https://localhost:8080/"
        },
        "id": "0kPVZvQ7F6Kl",
        "outputId": "655a6834-5098-4bcc-8998-0196540e1562"
      },
      "execution_count": 9,
      "outputs": [
        {
          "output_type": "stream",
          "name": "stdout",
          "text": [
            "[[1. 1.]\n",
            " [1. 1.]]\n"
          ]
        }
      ]
    },
    {
      "cell_type": "code",
      "source": [
        "rand=np.random.random((2,2))\n",
        "print(rand)"
      ],
      "metadata": {
        "colab": {
          "base_uri": "https://localhost:8080/"
        },
        "id": "FDWVx5wVGJbd",
        "outputId": "a5d757a4-f560-4722-de9c-9c7fd97d8171"
      },
      "execution_count": 10,
      "outputs": [
        {
          "output_type": "stream",
          "name": "stdout",
          "text": [
            "[[0.13889596 0.69110013]\n",
            " [0.91752878 0.468166  ]]\n"
          ]
        }
      ]
    },
    {
      "cell_type": "code",
      "source": [
        "identity=np.eye(3)\n",
        "print(identity)"
      ],
      "metadata": {
        "colab": {
          "base_uri": "https://localhost:8080/"
        },
        "id": "U5CnzD2MGR6P",
        "outputId": "d3b51eec-0149-4697-dd66-d1127b108693"
      },
      "execution_count": 12,
      "outputs": [
        {
          "output_type": "stream",
          "name": "stdout",
          "text": [
            "[[1. 0. 0.]\n",
            " [0. 1. 0.]\n",
            " [0. 0. 1.]]\n"
          ]
        }
      ]
    },
    {
      "cell_type": "code",
      "source": [
        "aran=np.arange(0,10,2)\n",
        "print(aran)\n",
        "#arange(start,stop,step)"
      ],
      "metadata": {
        "colab": {
          "base_uri": "https://localhost:8080/"
        },
        "id": "45kXMGAjG4Za",
        "outputId": "e5d52532-b25f-465b-e82d-76d557dade18"
      },
      "execution_count": 14,
      "outputs": [
        {
          "output_type": "stream",
          "name": "stdout",
          "text": [
            "[0 2 4 6 8]\n"
          ]
        }
      ]
    },
    {
      "cell_type": "code",
      "source": [
        "lin=np.linspace(1,5,9)\n",
        "print(lin)\n",
        "#linspace(start,stop,no of points)"
      ],
      "metadata": {
        "colab": {
          "base_uri": "https://localhost:8080/"
        },
        "id": "Q8t5CAGSHbFo",
        "outputId": "c42c944b-befb-4cbd-b64e-602eb87e3787"
      },
      "execution_count": 17,
      "outputs": [
        {
          "output_type": "stream",
          "name": "stdout",
          "text": [
            "[1.  1.5 2.  2.5 3.  3.5 4.  4.5 5. ]\n"
          ]
        }
      ]
    },
    {
      "cell_type": "code",
      "source": [
        "print(np.full((3),4))"
      ],
      "metadata": {
        "colab": {
          "base_uri": "https://localhost:8080/"
        },
        "id": "PW2IihepH11Y",
        "outputId": "21947657-6f37-4822-b35d-f5d77e18dc41"
      },
      "execution_count": 29,
      "outputs": [
        {
          "output_type": "stream",
          "name": "stdout",
          "text": [
            "[4 4 4]\n"
          ]
        }
      ]
    },
    {
      "cell_type": "code",
      "source": [
        "print(np.empty((3,2)))"
      ],
      "metadata": {
        "colab": {
          "base_uri": "https://localhost:8080/"
        },
        "id": "DRrXfnssIJak",
        "outputId": "4c1620d9-9fc2-421f-8355-f22340471f6f"
      },
      "execution_count": 30,
      "outputs": [
        {
          "output_type": "stream",
          "name": "stdout",
          "text": [
            "[[2.e-323 2.e-323]\n",
            " [2.e-323 2.e-323]\n",
            " [2.e-323 2.e-323]]\n"
          ]
        }
      ]
    },
    {
      "cell_type": "code",
      "source": [
        "b = np.array([(1.5,2,3), (4,5,6)], dtype = float)\n",
        "print(\"sizze:\",b.size)\n",
        "print(\"dim\",b.shape)\n",
        "print(\"data type\",b.dtype)\n",
        "print(\"no of dim:\",b.ndim)"
      ],
      "metadata": {
        "colab": {
          "base_uri": "https://localhost:8080/"
        },
        "id": "AvG65_jOIse7",
        "outputId": "928d905b-6f69-4ce2-812c-6069442bfcda"
      },
      "execution_count": 31,
      "outputs": [
        {
          "output_type": "stream",
          "name": "stdout",
          "text": [
            "sizze: 6\n",
            "dim (2, 3)\n",
            "data type float64\n",
            "no of dim: 2\n"
          ]
        }
      ]
    },
    {
      "cell_type": "code",
      "source": [
        "temp_data=np.array([(24,26,22),(30,28,27)])\n",
        "print(temp_data)\n",
        "print(\"shape:\",temp_data.shape)\n",
        "print(\"size:\",temp_data.size)\n",
        "print(\"data type:\",temp_data.dtype)\n",
        "print(\"no of dim:\",temp_data.ndim)"
      ],
      "metadata": {
        "colab": {
          "base_uri": "https://localhost:8080/"
        },
        "id": "G-iNsL_5Jl03",
        "outputId": "1c09976e-108b-43a8-db7e-b80194710dc7"
      },
      "execution_count": 48,
      "outputs": [
        {
          "output_type": "stream",
          "name": "stdout",
          "text": [
            "[[24 26 22]\n",
            " [30 28 27]]\n",
            "shape: (2, 3)\n",
            "size: 6\n",
            "data type: int64\n",
            "no of dim: 2\n"
          ]
        }
      ]
    },
    {
      "cell_type": "code",
      "source": [
        "third=np.array([21, 23, 22])\n",
        "np.append(temp_data,third)\n",
        "#temp_data.append(third)\n",
        "temp_data=np.vstack((temp_data,third))\n",
        "print(temp_data)"
      ],
      "metadata": {
        "colab": {
          "base_uri": "https://localhost:8080/"
        },
        "id": "IMouuMi3K7CM",
        "outputId": "7608c809-b7ac-400d-9bb9-06452f85da8d"
      },
      "execution_count": 49,
      "outputs": [
        {
          "output_type": "stream",
          "name": "stdout",
          "text": [
            "[[24 26 22]\n",
            " [30 28 27]\n",
            " [21 23 22]]\n"
          ]
        }
      ]
    },
    {
      "cell_type": "code",
      "source": [
        "updated_temp_data=temp_data\n",
        "sensor_error_flag=np.zeros((2,3),dtype=int)\n",
        "print(sensor_error_flag)\n",
        "greenhouse_identity=np.identity(3,dtype=int)\n",
        "print(greenhouse_identity)"
      ],
      "metadata": {
        "colab": {
          "base_uri": "https://localhost:8080/"
        },
        "id": "7_0bSHBVL_mz",
        "outputId": "801d2897-8184-4c89-9c29-6dd498f10717"
      },
      "execution_count": 59,
      "outputs": [
        {
          "output_type": "stream",
          "name": "stdout",
          "text": [
            "[[0 0 0]\n",
            " [0 0 0]]\n",
            "[[1 0 0]\n",
            " [0 1 0]\n",
            " [0 0 1]]\n"
          ]
        }
      ]
    },
    {
      "cell_type": "code",
      "source": [
        "print(temp_data[0,:])"
      ],
      "metadata": {
        "colab": {
          "base_uri": "https://localhost:8080/"
        },
        "id": "EsBHl0F2N5t2",
        "outputId": "b8713a73-edb5-4ace-e3b6-346b872af09e"
      },
      "execution_count": 67,
      "outputs": [
        {
          "output_type": "stream",
          "name": "stdout",
          "text": [
            "[24 26 22]\n"
          ]
        }
      ]
    },
    {
      "cell_type": "markdown",
      "source": [
        "Indexing and Slicing:\n",
        "You are working as a Data Analyst at a fruit distribution company.\n",
        "\n",
        "The company stores the number of fruit boxes shipped per day (for 1 week) in a 2D NumPy array where:\n",
        "Each row represents a type of fruit.\n",
        "Each column represents a day of the week (Mon–Sun).\n",
        "\n",
        "\n",
        "Your Tasks\n",
        "Create the 2D NumPy array\n",
        "\n",
        "Create an array named shipments using the above data.\n",
        "Access single elements (Indexing):\n",
        "Get the number of Apples shipped on Wednesday.\n",
        "Get the number of Oranges shipped on Sunday.\n",
        "Access multiple elements (Slicing):\n",
        "Extract all the weekday shipments (Mon–Fri) for all fruits.\n",
        "Extract only the weekend shipments (Sat & Sun).\n",
        "Extract the shipments of Apples from Wednesday to Saturday.\n",
        "Bonus (Practice thinking):\n",
        "Replace the Saturday shipment of Apples (currently 80) with 100 using indexing.\n",
        ""
      ],
      "metadata": {
        "id": "OKFhuNiAOefk"
      }
    },
    {
      "cell_type": "code",
      "source": [
        "week=np.array(['mon','tue','wed','thu','fri','sat','sun'],dtype=str)\n",
        "print(week)"
      ],
      "metadata": {
        "colab": {
          "base_uri": "https://localhost:8080/"
        },
        "id": "D1PUw-jWOk50",
        "outputId": "0f267c86-9c78-4385-9dd1-ff193b2ec63d"
      },
      "execution_count": 70,
      "outputs": [
        {
          "output_type": "stream",
          "name": "stdout",
          "text": [
            "['mon' 'tue' 'wed' 'thu' 'fri' 'sat' 'sun']\n"
          ]
        }
      ]
    },
    {
      "cell_type": "code",
      "source": [
        "app=np.array([40,30,20,40,50,60,70])\n",
        "ban=np.array([50,60,40,30,60,70,80])\n",
        "ora=np.array([10,20,30,40,50,60,70])\n",
        "shipments=np.vstack((week,app,ban,ora))\n",
        "print(shipments)"
      ],
      "metadata": {
        "colab": {
          "base_uri": "https://localhost:8080/"
        },
        "id": "fo2Fkpp5Pl6L",
        "outputId": "c251a2e3-893a-4e66-fa77-95e2567a5719"
      },
      "execution_count": 71,
      "outputs": [
        {
          "output_type": "stream",
          "name": "stdout",
          "text": [
            "[['mon' 'tue' 'wed' 'thu' 'fri' 'sat' 'sun']\n",
            " ['40' '30' '20' '40' '50' '60' '70']\n",
            " ['50' '60' '40' '30' '60' '70' '80']\n",
            " ['10' '20' '30' '40' '50' '60' '70']]\n"
          ]
        }
      ]
    },
    {
      "cell_type": "code",
      "source": [
        "print(\"number of Apples shipped on Wednesday.\",shipments[1,2])\n",
        "print(\"number of Oranges shipped on Sunday.\",shipments[3,6])\n",
        "print(\"all the weekday shipments (Mon–Fri) for all fruits.\\n\",shipments[1:,:5])\n",
        "print(\"Extract only the weekend shipments (Sat & Sun).\\n\",shipments[1:,5:])\n",
        "print(\"Extract the shipments of Apples from Wednesday to Saturday.\\n\",shipments[1,2:6])\n",
        "shipments[1,5]=100\n",
        "print(shipments)"
      ],
      "metadata": {
        "colab": {
          "base_uri": "https://localhost:8080/"
        },
        "id": "o6-T1s5JQOTl",
        "outputId": "ddf3d38f-7c30-484b-9662-a3b78fbc02f0"
      },
      "execution_count": 79,
      "outputs": [
        {
          "output_type": "stream",
          "name": "stdout",
          "text": [
            "number of Apples shipped on Wednesday. 20\n",
            "number of Oranges shipped on Sunday. 70\n",
            "all the weekday shipments (Mon–Fri) for all fruits.\n",
            " [['40' '30' '20' '40' '50']\n",
            " ['50' '60' '40' '30' '60']\n",
            " ['10' '20' '30' '40' '50']]\n",
            "Extract only the weekend shipments (Sat & Sun).\n",
            " [['100' '70']\n",
            " ['70' '80']\n",
            " ['60' '70']]\n",
            "Extract the shipments of Apples from Wednesday to Saturday.\n",
            " ['20' '40' '50' '100']\n",
            "[['mon' 'tue' 'wed' 'thu' 'fri' 'sat' 'sun']\n",
            " ['40' '30' '20' '40' '50' '100' '70']\n",
            " ['50' '60' '40' '30' '60' '70' '80']\n",
            " ['10' '20' '30' '40' '50' '60' '70']]\n"
          ]
        }
      ]
    },
    {
      "cell_type": "code",
      "source": [
        "#arithmetic operations\n",
        "a=np.array([1,2,3])\n",
        "b=np.array([4,5,6])\n",
        "print(a+b)\n",
        "print(a-b)\n",
        "print(a*b)\n",
        "print(a/b)\n",
        "print(a*2)\n",
        "print(np.dot(a,b))\n",
        "\n",
        "#broadcasting\n",
        "c=3\n",
        "print(\"broadcasting of a and c\\n\",a+c)"
      ],
      "metadata": {
        "colab": {
          "base_uri": "https://localhost:8080/"
        },
        "id": "rKAwl6peYBc9",
        "outputId": "f5bad77e-92a6-41aa-d103-7d949f509654"
      },
      "execution_count": 85,
      "outputs": [
        {
          "output_type": "stream",
          "name": "stdout",
          "text": [
            "[5 7 9]\n",
            "[-3 -3 -3]\n",
            "[ 4 10 18]\n",
            "[0.25 0.4  0.5 ]\n",
            "[2 4 6]\n",
            "32\n",
            "broadcasting of a and c\n",
            " [4 5 6]\n"
          ]
        }
      ]
    },
    {
      "cell_type": "code",
      "source": [
        "#universal functions\n",
        "# 1. Arithmetic ufuncs\n",
        "# Operate element-wise on arrays.\n",
        "# np.add(x, y)\n",
        "# np.subtract(x, y)\n",
        "# np.multiply(x, y)\n",
        "# np.divide(x, y)\n",
        "# np.power(x, y)\n",
        "# np.mod(x, y)\n",
        "# 🔹 2. Exponential and Logarithmic ufuncs\n",
        "# (You already covered these)\n",
        "# np.exp(x)\n",
        "# np.log(x)\n",
        "# np.log10(x)\n",
        "# np.log2(x)\n",
        "# np.expm1(x)    # exp(x) - 1\n",
        "# 🔹 3. Trigonometric ufuncs\n",
        "# np.sin(x)\n",
        "# np.cos(x)\n",
        "# np.tan(x)\n",
        "# np.arcsin(x)\n",
        "# np.arccos(x)\n",
        "# np.arctan(x)\n",
        "# np.degrees(x)\n",
        "# np.radians(x)\n",
        "# 🔹 4. Rounding ufuncs\n",
        "# np.round(x)\n",
        "# np.floor(x)\n",
        "# np.ceil(x)\n",
        "# np.trunc(x)\n",
        "# 🔹 5. Statistical ufuncs\n",
        "# (Operate along an axis or entire array)\n",
        "# np.min(x)\n",
        "# np.max(x)\n",
        "# np.mean(x)\n",
        "# np.std(x)\n",
        "# np.var(x)\n",
        "# np.sum(x)\n",
        "# np.prod(x)\n",
        "# 🔹 6. Logical ufuncs\n",
        "# np.logical_and(x, y)\n",
        "# np.logical_or(x, y)\n",
        "# np.logical_not(x)\n",
        "# np.logical_xor(x, y)\n",
        "# 🔹 7. Comparison ufuncs\n",
        "# (Return Boolean arrays)\n",
        "# np.greater(x, y)\n",
        "# np.less(x, y)\n",
        "# np.equal(x, y)\n",
        "# np.not_equal(x, y)\n",
        "# np.greater_equal(x, y)\n",
        "# np.less_equal(x, y)\n",
        "# 🔹 8. Bitwise ufuncs\n",
        "# (Operate on integers)\n",
        "# np.bitwise_and(x, y)\n",
        "# np.bitwise_or(x, y)\n",
        "# np.bitwise_xor(x, y)\n",
        "# np.invert(x)\n",
        "d=np.array([1,2,3])\n",
        "e=np.array([4,5,6])\n",
        "print(np.power(d,e))\n",
        "print(np.mod(e,d))\n",
        "print(np.exp(d))\n",
        "print(np.sqrt(d))\n",
        "print(np.log(d))"
      ],
      "metadata": {
        "colab": {
          "base_uri": "https://localhost:8080/"
        },
        "id": "grYGtGsvZ69k",
        "outputId": "9708a337-9b16-4d88-b9fe-736f2361856b"
      },
      "execution_count": 90,
      "outputs": [
        {
          "output_type": "stream",
          "name": "stdout",
          "text": [
            "[  1  32 729]\n",
            "[0 1 0]\n",
            "[ 2.71828183  7.3890561  20.08553692]\n",
            "[1.         1.41421356 1.73205081]\n",
            "[0.         0.69314718 1.09861229]\n"
          ]
        }
      ]
    },
    {
      "cell_type": "code",
      "source": [
        "# 2. Exponential and Logarithmic ufuncs\n",
        "print(np.exp(d))\n",
        "print(np.log(d))\n",
        "print(np.log10(d))\n",
        "print(np.log2(d))\n",
        "print(np.expm1(d))"
      ],
      "metadata": {
        "colab": {
          "base_uri": "https://localhost:8080/"
        },
        "id": "Jj4SsBAFbENZ",
        "outputId": "3c18b180-6a79-4249-af96-64bc63cf2e33"
      },
      "execution_count": 96,
      "outputs": [
        {
          "output_type": "stream",
          "name": "stdout",
          "text": [
            "[ 2.71828183  7.3890561  20.08553692]\n",
            "[0.         0.69314718 1.09861229]\n",
            "[0.         0.30103    0.47712125]\n",
            "[0.        1.        1.5849625]\n",
            "[ 1.71828183  6.3890561  19.08553692]\n"
          ]
        }
      ]
    },
    {
      "cell_type": "code",
      "source": [
        " #Trigonometric ufuncs\n",
        "print(np.sin(d))\n",
        "print(np.cos(d))\n",
        "print(np.tan(d))\n",
        "print(np.arcsin(d))\n",
        "print(np.arccos(d))\n",
        "print(np.arctan(d))\n"
      ],
      "metadata": {
        "colab": {
          "base_uri": "https://localhost:8080/"
        },
        "id": "DRUuyA5Lbz5D",
        "outputId": "4e2ce313-66cc-4dbe-959b-cced840f3ced"
      },
      "execution_count": 209,
      "outputs": [
        {
          "output_type": "stream",
          "name": "stdout",
          "text": [
            "[0.84147098 0.90929743 0.14112001]\n",
            "[ 0.54030231 -0.41614684 -0.9899925 ]\n",
            "[ 1.55740772 -2.18503986 -0.14254654]\n",
            "[1.57079633        nan        nan]\n",
            "[ 0. nan nan]\n",
            "[0.78539816 1.10714872 1.24904577]\n"
          ]
        },
        {
          "output_type": "stream",
          "name": "stderr",
          "text": [
            "/tmp/ipython-input-2568417770.py:5: RuntimeWarning: invalid value encountered in arcsin\n",
            "  print(np.arcsin(d))\n",
            "/tmp/ipython-input-2568417770.py:6: RuntimeWarning: invalid value encountered in arccos\n",
            "  print(np.arccos(d))\n"
          ]
        }
      ]
    },
    {
      "cell_type": "code",
      "source": [
        "#statistics\n",
        "x=np.array([30,80,3000])\n",
        "y=np.array([4,5,6])\n",
        "print(np.min(x))\n",
        "print(np.max(x))\n",
        "np.mean(x)\n",
        "np.std(x)\n",
        "np.var(x)\n",
        "np.sum(x)\n",
        "np.prod(x)"
      ],
      "metadata": {
        "colab": {
          "base_uri": "https://localhost:8080/"
        },
        "id": "EHYYlJkUcsFD",
        "outputId": "564c48b9-6adb-4329-c2fe-d8a1685532d6"
      },
      "execution_count": 100,
      "outputs": [
        {
          "output_type": "execute_result",
          "data": {
            "text/plain": [
              "np.int64(7200000)"
            ]
          },
          "metadata": {},
          "execution_count": 100
        }
      ]
    },
    {
      "cell_type": "markdown",
      "source": [
        "Create arrays\n",
        "Create three 2D NumPy arrays farmA, farmB, farmC (each shape (4,3)).\n",
        "Stack them into a single 3D array production_all of shape (3, 4, 3).\n",
        "Array attributes\n",
        "Print the .shape, .size, .dtype, and .ndim of production_all.\n",
        "Per-farm totals (arithmetic & aggregation)\n",
        "Use aggregation ufuncs to compute the total energy per farm (sum across panels & hours) → total_per_farm (shape (3,)).\n",
        "Compute mean, std, and var per farm.\n",
        "Per-hour matrix multiplication idea (matrix op)\n",
        "For a quick weighted estimate, create a hour_weights row vector of shape (3,) = [0.5, 1.0, 0.75] (weights for hour1, hour2, hour3).\n",
        "Compute weighted_per_panel by performing a dot product between each farm's panel-row and hour_weights to get per-panel weighted energy. (Use np.dot / matrix multiplication appropriately.)\n",
        "Broadcasting adjustments\n",
        "The operator notices a fixed calibration offset of +0.5 kWh for all panels in Farm B. Use broadcasting to add this offset to Farm B data inside production_all (without recreating whole array manually).\n",
        "Element-wise arithmetic (ufuncs: add/sub/mul/div/power/mod)\n",
        "Compute a normalized version where you:\n",
        "subtract the per-farm mean (use broadcasting),\n",
        "divide by the per-farm std (broadcasting) — i.e., z-score normalize each farm's panel-hour readings.\n",
        "Apply many ufuncs (use the ufuncs listed previously)\n",
        "Apply the following element-wise operations (create variables for each) on the normalized data (or a copy) and show the resulting arrays (or summaries — shape/dtype/first row) where appropriate:\n",
        "Exponential family: np.exp, np.expm1, np.log (note: handle non-positive inputs if needed), np.log10, np.log2.\n",
        "Trigonometric: np.sin, np.cos, np.tan, np.arcsin, np.arccos, np.arctan, plus np.degrees, np.radians applied appropriately.\n",
        "Rounding: np.round, np.floor, np.ceil, np.trunc.\n",
        "Comparison & logical ufuncs: create a boolean mask high_output = production_all > 20 and apply np.logical_and, np.logical_or, np.logical_not, np.logical_xor combining masks (e.g., high_output and even_hours_mask). Also use comparison ufuncs like np.greater_equal, np.less.\n",
        "Bitwise ufuncs (on integer arrays): create an integer array alerts = np.array([[1,0,1],[0,0,1],[1,1,0],[0,1,0]]) for each farm (shape match required) — then apply np.bitwise_and, np.bitwise_or, np.invert where sensible.\n",
        "Arithmetic ufuncs again: np.add, np.subtract, np.multiply, np.divide, np.power, np.mod.\n",
        "Aggregations over ufunc outputs: e.g., np.sum(np.exp(...)), np.mean(np.sin(...)).\n",
        "Broadcast-based summary table\n",
        "Use broadcasting to compute a (3,4) array panel_totals_per_farm = total per panel (sum across hours for each panel), and then compute a (3,) boolean needs_maintenance saying True if any panel in that farm has total < 40. Use np.min, np.max, np.any, np.all.\n",
        "Final KPIs (aggregation)\n",
        "Compute:\n",
        "overall_total (sum of all farms),\n",
        "peak_hour value (max across hours) and which farm & panel produced it (use np.argmax with careful unraveling),\n",
        "average_per_panel across all farms."
      ],
      "metadata": {
        "id": "y2kwPjs26JAl"
      }
    },
    {
      "cell_type": "code",
      "source": [],
      "metadata": {
        "id": "OPe5Vs5P6If6"
      },
      "execution_count": null,
      "outputs": []
    },
    {
      "cell_type": "code",
      "source": [
        "farma=np.array([[20,30,25],[23,26,28],[28,26,29],[22,29,26]])\n",
        "farmb=np.array([(24,22,24),(27,26,24),(25,24,23),[27,30,26]])\n",
        "farmc=np.array([(22,25,27),(22,26,24),(26,27,28),[24,25,26]])\n",
        "prodction=np.array([farma,farmb,farmc])\n",
        "print(prodction)\n",
        "print(\"shape:\",prodction.shape)\n",
        "print(\"size:\",prodction.size)\n",
        "print(\"data type:\",prodction.dtype)\n",
        "print(\"no of dim:\",prodction.ndim)"
      ],
      "metadata": {
        "colab": {
          "base_uri": "https://localhost:8080/"
        },
        "id": "LA-2hzBddtxQ",
        "outputId": "5096e002-42d0-47dc-b92b-a65c21e6f944"
      },
      "execution_count": 104,
      "outputs": [
        {
          "output_type": "stream",
          "name": "stdout",
          "text": [
            "[[[20 30 25]\n",
            "  [23 26 28]\n",
            "  [28 26 29]\n",
            "  [22 29 26]]\n",
            "\n",
            " [[24 22 24]\n",
            "  [27 26 24]\n",
            "  [25 24 23]\n",
            "  [27 30 26]]\n",
            "\n",
            " [[22 25 27]\n",
            "  [22 26 24]\n",
            "  [26 27 28]\n",
            "  [24 25 26]]]\n",
            "shape: (3, 4, 3)\n",
            "size: 36\n",
            "data type: int64\n",
            "no of dim: 3\n"
          ]
        }
      ]
    },
    {
      "cell_type": "code",
      "source": [
        "resa=np.sum(farma,axis=0)\n",
        "print(\"production of farm A:\",resa)\n",
        "resb=np.sum(farmb,axis=0)\n",
        "print(\"production of farm B:\",resb)\n",
        "resc=np.sum(farmc,axis=0)\n",
        "print(\"production of farm C:\",resc)"
      ],
      "metadata": {
        "colab": {
          "base_uri": "https://localhost:8080/"
        },
        "id": "7AKzvsrwexLV",
        "outputId": "c38906cf-d16e-44b3-8b6b-101c2643fa82"
      },
      "execution_count": 109,
      "outputs": [
        {
          "output_type": "stream",
          "name": "stdout",
          "text": [
            "production of farm A: [ 93 111 108]\n",
            "production of farm B: [103 102  97]\n",
            "production of farm C: [ 94 103 105]\n"
          ]
        }
      ]
    },
    {
      "cell_type": "code",
      "source": [
        "# Compute mean, std, and var per farm.\n",
        "print(\"farma mean,std,var\\n\")\n",
        "print(\"mean:\",np.mean(farma))\n",
        "print(\"std:\",np.std(farma))\n",
        "print(\"var:\",np.var(farma))\n",
        "print(\"\\nfarmb mean,std,var\\n\")\n",
        "print(\"mean:\",np.mean(farmb))\n",
        "print(\"std:\",np.std(farmb))\n",
        "print(\"var:\",np.var(farmb))\n",
        "print(\"\\nfarmc mean,std,var\\n\")\n",
        "print(\"mean:\",np.mean(farmc))\n",
        "print(\"std:\",np.std(farmc))\n",
        "print(\"var:\",np.var(farmc))"
      ],
      "metadata": {
        "colab": {
          "base_uri": "https://localhost:8080/"
        },
        "id": "A3xkrIh5gYLB",
        "outputId": "78511795-09b2-4103-c440-8bf7faa2c0bf"
      },
      "execution_count": 124,
      "outputs": [
        {
          "output_type": "stream",
          "name": "stdout",
          "text": [
            "farma mean,std,var\n",
            "\n",
            "mean: 26.0\n",
            "std: 2.943920288775949\n",
            "var: 8.666666666666666\n",
            "\n",
            "farmb mean,std,var\n",
            "\n",
            "mean: 25.166666666666668\n",
            "std: 2.0749832663314556\n",
            "var: 4.305555555555556\n",
            "\n",
            "farmc mean,std,var\n",
            "\n",
            "mean: 25.166666666666668\n",
            "std: 1.818118685772619\n",
            "var: 3.305555555555556\n"
          ]
        }
      ]
    },
    {
      "cell_type": "code",
      "source": [
        "hour_weights=np.array([0.5, 1.0, 0.75])\n",
        "print(\"\\nweighted_per_panel for farmA\\n\")\n",
        "print(np.dot(farma,hour_weights))\n",
        "print(\"\\nweighted_per_panel for farmB\\n\")\n",
        "print(np.dot(farmb,hour_weights))\n",
        "print(\"\\nweighted_per_panel for farmC\\n\")\n",
        "print(np.dot(farmc,hour_weights))"
      ],
      "metadata": {
        "colab": {
          "base_uri": "https://localhost:8080/"
        },
        "id": "B8Gbqq70htMz",
        "outputId": "de5af0bd-45f6-462c-ca13-3275cb49df94"
      },
      "execution_count": 128,
      "outputs": [
        {
          "output_type": "stream",
          "name": "stdout",
          "text": [
            "\n",
            "weighted_per_panel for farmA\n",
            "\n",
            "[58.75 58.5  61.75 59.5 ]\n",
            "\n",
            "weighted_per_panel for farmB\n",
            "\n",
            "[52.   57.5  53.75 63.  ]\n",
            "\n",
            "weighted_per_panel for farmC\n",
            "\n",
            "[56.25 55.   61.   56.5 ]\n"
          ]
        }
      ]
    },
    {
      "cell_type": "code",
      "source": [
        "# Broadcasting adjustments\n",
        "# The operator notices a fixed calibration offset of +0.5 kWh for all panels in Farm B. Use broadcasting to add this offset to Farm B data inside production_all\n",
        "# (without recreating whole array manually).\n",
        "print(prodction)\n",
        "prodction[1]=prodction[1]+0.5\n",
        "print(prodction)"
      ],
      "metadata": {
        "colab": {
          "base_uri": "https://localhost:8080/"
        },
        "id": "4tkoJqddusNS",
        "outputId": "c98a2b4a-34e4-435f-b68a-7944d1f14876"
      },
      "execution_count": 133,
      "outputs": [
        {
          "output_type": "stream",
          "name": "stdout",
          "text": [
            "[[[20 30 25]\n",
            "  [23 26 28]\n",
            "  [28 26 29]\n",
            "  [22 29 26]]\n",
            "\n",
            " [[24 22 24]\n",
            "  [27 26 24]\n",
            "  [25 24 23]\n",
            "  [27 30 26]]\n",
            "\n",
            " [[22 25 27]\n",
            "  [22 26 24]\n",
            "  [26 27 28]\n",
            "  [24 25 26]]]\n",
            "[[[20 30 25]\n",
            "  [23 26 28]\n",
            "  [28 26 29]\n",
            "  [22 29 26]]\n",
            "\n",
            " [[24 22 24]\n",
            "  [27 26 24]\n",
            "  [25 24 23]\n",
            "  [27 30 26]]\n",
            "\n",
            " [[22 25 27]\n",
            "  [22 26 24]\n",
            "  [26 27 28]\n",
            "  [24 25 26]]]\n"
          ]
        }
      ]
    },
    {
      "cell_type": "code",
      "source": [
        "# Element-wise arithmetic (ufuncs: add/sub/mul/div/power/mod)\n",
        "# Compute a normalized version where you:\n",
        "# subtract the per-farm mean (use broadcasting),\n",
        "# divide by the per-farm std (broadcasting) — i.e., z-score normalize each farm's panel-hour readings.\n",
        "mea1=np.mean(prodction[0])\n",
        "mea2=np.mean(prodction[1])\n",
        "mea3=np.mean(prodction[2])\n",
        "normpro1=prodction[0]-mea1\n",
        "normpro2=prodction[1]-mea2\n",
        "normpro3=prodction[2]-mea3\n",
        "normproduction=np.array([normpro1,normpro2,normpro3])\n",
        "print(normproduction)\n",
        "std1=np.std(prodction[0])\n",
        "std2=np.std(prodction[1])\n",
        "std3=np.std(prodction[2])\n",
        "stdpro1=prodction[0]/std1\n",
        "stdpro2=prodction[2]/std2\n",
        "stdpro3=prodction[2]/std3\n",
        "stdproduction=np.array([stdpro1,stdpro2,stdpro3])\n",
        "print(stdproduction)"
      ],
      "metadata": {
        "colab": {
          "base_uri": "https://localhost:8080/"
        },
        "id": "MO9XaYbsvNrf",
        "outputId": "474251fb-4b43-40e8-a23b-58b48242b62e"
      },
      "execution_count": 140,
      "outputs": [
        {
          "output_type": "stream",
          "name": "stdout",
          "text": [
            "[[[-6.          4.         -1.        ]\n",
            "  [-3.          0.          2.        ]\n",
            "  [ 2.          0.          3.        ]\n",
            "  [-4.          3.          0.        ]]\n",
            "\n",
            " [[-1.16666667 -3.16666667 -1.16666667]\n",
            "  [ 1.83333333  0.83333333 -1.16666667]\n",
            "  [-0.16666667 -1.16666667 -2.16666667]\n",
            "  [ 1.83333333  4.83333333  0.83333333]]\n",
            "\n",
            " [[-3.16666667 -0.16666667  1.83333333]\n",
            "  [-3.16666667  0.83333333 -1.16666667]\n",
            "  [ 0.83333333  1.83333333  2.83333333]\n",
            "  [-1.16666667 -0.16666667  0.83333333]]]\n",
            "[[[ 6.7936622  10.19049331  8.49207776]\n",
            "  [ 7.81271154  8.83176087  9.51112709]\n",
            "  [ 9.51112709  8.83176087  9.8508102 ]\n",
            "  [ 7.47302843  9.8508102   8.83176087]]\n",
            "\n",
            " [[10.60249514 12.04828993 13.01215313]\n",
            "  [10.60249514 12.53022153 11.56635834]\n",
            "  [12.53022153 13.01215313 13.49408473]\n",
            "  [11.56635834 12.04828993 12.53022153]]\n",
            "\n",
            " [[12.10042016 13.75047746 14.85051565]\n",
            "  [12.10042016 14.30049655 13.20045836]\n",
            "  [14.30049655 14.85051565 15.40053475]\n",
            "  [13.20045836 13.75047746 14.30049655]]]\n"
          ]
        }
      ]
    },
    {
      "cell_type": "code",
      "source": [
        "mean_per_farm  = np.mean(prodction, axis=(1,2))\n",
        "std_per_farm   = np.std(prodction, axis=(1,2))\n",
        "print(mean_per_farm)\n",
        "print(std_per_farm)\n",
        "norm_data = (prodction - mean_per_farm[:, None, None]) / std_per_farm[:, None, None]\n",
        "print(\"Normalized data (z-score):\\n\", np.round(norm_data[0], 2))  # show first farm example\n",
        "print(norm_data)"
      ],
      "metadata": {
        "colab": {
          "base_uri": "https://localhost:8080/"
        },
        "id": "RtYdlG7Hz96o",
        "outputId": "3782c0db-8ba6-4e97-edba-c3bd35c215b5"
      },
      "execution_count": 144,
      "outputs": [
        {
          "output_type": "stream",
          "name": "stdout",
          "text": [
            "[26.         25.16666667 25.16666667]\n",
            "[2.94392029 2.07498327 1.81811869]\n",
            "Normalized data (z-score):\n",
            " [[-2.04  1.36 -0.34]\n",
            " [-1.02  0.    0.68]\n",
            " [ 0.68  0.    1.02]\n",
            " [-1.36  1.02  0.  ]]\n",
            "[[[-2.03809866  1.35873244 -0.33968311]\n",
            "  [-1.01904933  0.          0.67936622]\n",
            "  [ 0.67936622  0.          1.01904933]\n",
            "  [-1.35873244  1.01904933  0.        ]]\n",
            "\n",
            " [[-0.56225353 -1.52611672 -0.56225353]\n",
            "  [ 0.88354126  0.40160966 -0.56225353]\n",
            "  [-0.08032193 -0.56225353 -1.04418513]\n",
            "  [ 0.88354126  2.32933605  0.40160966]]\n",
            "\n",
            " [[-1.74172714 -0.09166985  1.00836835]\n",
            "  [-1.74172714  0.45834925 -0.64168895]\n",
            "  [ 0.45834925  1.00836835  1.55838744]\n",
            "  [-0.64168895 -0.09166985  0.45834925]]]\n"
          ]
        }
      ]
    },
    {
      "cell_type": "code",
      "source": [
        "exp_data    = np.exp(norm_data)\n",
        "expm1_data  = np.expm1(norm_data)\n",
        "log_data    = np.log(np.abs(norm_data) + 1)  # avoid negatives\n",
        "log10_data  = np.log10(np.abs(norm_data) + 1)\n",
        "log2_data   = np.log2(np.abs(norm_data) + 1)\n",
        "\n",
        "sin_data = np.sin(norm_data)\n",
        "cos_data = np.cos(norm_data)\n",
        "tan_data = np.tan(norm_data)\n",
        "\n",
        "arcsin_data  = np.arcsin(np.clip(sin_data, -1, 1))\n",
        "arccos_data  = np.arccos(np.clip(cos_data, -1, 1))\n",
        "arctan_data  = np.arctan(norm_data)\n",
        "\n",
        "degrees_data = np.degrees(arctan_data)\n",
        "radians_data = np.radians(degrees_data)\n",
        "\n",
        "round_data = np.round(norm_data)\n",
        "floor_data = np.floor(norm_data)\n",
        "ceil_data  = np.ceil(norm_data)\n",
        "trunc_data = np.trunc(norm_data)\n",
        "\n",
        "# Just show shapes / samples\n",
        "print(\"exp_data shape:\", exp_data.shape)\n",
        "print(\"sin_data[0]:\\n\", np.round(sin_data[0], 2))\n",
        "print()\n"
      ],
      "metadata": {
        "id": "gzAR1CxE06jn"
      },
      "execution_count": null,
      "outputs": []
    },
    {
      "cell_type": "code",
      "source": [
        "# 9️⃣ Logical & comparison masks\n",
        "# -------------------------------\n",
        "high_output = prodction > 20\n",
        "even_hours_mask = (np.arange(3) % 2 == 0)[None, None, :]\n",
        "and_mask  = np.logical_and(high_output, even_hours_mask)\n",
        "or_mask   = np.logical_or(high_output, even_hours_mask)\n",
        "not_mask  = np.logical_not(high_output)\n",
        "xor_mask  = np.logical_xor(high_output, even_hours_mask)\n",
        "\n",
        "greater_equal = np.greater_equal(prodction, 18)\n",
        "less_than     = np.less(prodction, 12)\n",
        "\n",
        "print(\"High output mask (sample farm):\\n\", high_output[2])\n",
        "print()\n"
      ],
      "metadata": {
        "id": "haaUOZwI1Wxr"
      },
      "execution_count": null,
      "outputs": []
    },
    {
      "cell_type": "code",
      "source": [
        "#Bitwise operations\n",
        "# -------------------------------\n",
        "alerts = np.array([\n",
        "    [[1,0,1],\n",
        "     [0,0,1],\n",
        "     [1,1,0],\n",
        "     [0,1,0]],\n",
        "    [[1,0,1],\n",
        "     [0,0,1],\n",
        "     [1,1,0],\n",
        "     [0,1,0]],\n",
        "    [[1,0,1],\n",
        "     [0,0,1],\n",
        "     [1,1,0],\n",
        "     [0,1,0]]\n",
        "], dtype=int)\n",
        "\n",
        "bit_and = np.bitwise_and(alerts, (prodction > 18))\n",
        "bit_or  = np.bitwise_or(alerts, (prodction > 18))\n",
        "bit_not = np.invert(alerts)\n",
        "\n",
        "print(\"Bitwise AND sample:\\n\", bit_and[0])\n",
        "print()\n"
      ],
      "metadata": {
        "id": "G4YS6Ppk1qSq"
      },
      "execution_count": null,
      "outputs": []
    },
    {
      "cell_type": "code",
      "source": [
        "add_data = np.add(prodction, 1)\n",
        "sub_data = np.subtract(prodction, 1)\n",
        "mul_data = np.multiply(prodction, 2)\n",
        "div_data = np.divide(prodction, 2)\n",
        "pow_data = np.power(prodction, 2)\n",
        "mod_data = np.mod(prodction, 5)\n",
        "\n",
        "print(\"Example np.multiply output (FarmA):\\n\", mul_data[0])\n",
        "print()\n",
        "\n",
        "# Aggregations\n",
        "sum_exp = np.sum(np.exp(norm_data))\n",
        "mean_sin = np.mean(np.sin(norm_data))\n",
        "print(\"Sum of exp(norm):\", sum_exp)\n",
        "print(\"Mean of sin(norm):\", mean_sin)\n",
        "print()\n"
      ],
      "metadata": {
        "id": "0KK6O0xw14XW"
      },
      "execution_count": null,
      "outputs": []
    },
    {
      "cell_type": "code",
      "source": [
        "panel_totals_per_farm = np.sum(prodction, axis=2)  # (3,4)\n",
        "needs_maintenance = np.any(panel_totals_per_farm < 40, axis=1)\n",
        "\n",
        "print(\"Panel totals per farm:\\n\", panel_totals_per_farm)\n",
        "print(\"Needs maintenance:\", needs_maintenance)\n",
        "print()"
      ],
      "metadata": {
        "id": "ZqFu_iGb1_k2"
      },
      "execution_count": null,
      "outputs": []
    },
    {
      "cell_type": "code",
      "source": [
        "overall_total = np.sum(prodction)\n",
        "peak_value = np.max(prodction)\n",
        "peak_index = np.unravel_index(np.argmax(prodction), prodction.shape)\n",
        "average_per_panel = np.mean(prodction, axis=(0,2))  # avg per panel index across farms\n",
        "\n",
        "print(\"Overall total energy:\", overall_total)\n",
        "print(\"Peak hour value:\", peak_value)\n",
        "print(f\"Peak at: Farm {peak_index[0]}, Panel {peak_index[1]}, Hour {peak_index[2]}\")\n",
        "print(\"Average per panel across farms:\", average_per_panel)"
      ],
      "metadata": {
        "id": "tquXhD5K2KF9"
      },
      "execution_count": null,
      "outputs": []
    },
    {
      "cell_type": "code",
      "source": [
        "#reshaping\n",
        "arr=np.array([1,2,3,4,5])\n",
        "reshaped=arr.reshape(5,1)\n",
        "print(reshaped)"
      ],
      "metadata": {
        "colab": {
          "base_uri": "https://localhost:8080/"
        },
        "id": "MXGCBKAU2P5c",
        "outputId": "0040a461-2bbf-45c6-d2c8-fd93a03250aa"
      },
      "execution_count": 145,
      "outputs": [
        {
          "output_type": "stream",
          "name": "stdout",
          "text": [
            "[[1]\n",
            " [2]\n",
            " [3]\n",
            " [4]\n",
            " [5]]\n"
          ]
        }
      ]
    },
    {
      "cell_type": "code",
      "source": [
        "#stacking and ssplitting\n",
        "arr1=np.array([1,2,3])\n",
        "arr2=np.array([4,5,6])\n",
        "vstacked=np.vstack((arr1,arr2))\n",
        "print(vstacked)\n",
        "hstacked=np.hstack((arr1,arr2))\n",
        "print(hstacked)\n",
        "stack=np.stack((arr1,arr2),axis=1)\n",
        "print(stack)\n",
        "arr3=np.array([1,2,3,4,56,7,8,9,10])\n",
        "split=np.split(arr3,3)\n",
        "print(split)"
      ],
      "metadata": {
        "colab": {
          "base_uri": "https://localhost:8080/"
        },
        "id": "Ov364YKy2PA9",
        "outputId": "c1515958-ef32-481e-9f7e-940a7d8a402e"
      },
      "execution_count": 161,
      "outputs": [
        {
          "output_type": "stream",
          "name": "stdout",
          "text": [
            "[[1 2 3]\n",
            " [4 5 6]]\n",
            "[1 2 3 4 5 6]\n",
            "[[1 4]\n",
            " [2 5]\n",
            " [3 6]]\n",
            "[array([1, 2, 3]), array([ 4, 56,  7]), array([ 8,  9, 10])]\n"
          ]
        }
      ]
    },
    {
      "cell_type": "code",
      "source": [
        "#boolean and fancy indexing\n",
        "print(arr3[arr3>10])\n",
        "indices=[0,3,4,6]\n",
        "print(arr3[indices])"
      ],
      "metadata": {
        "colab": {
          "base_uri": "https://localhost:8080/"
        },
        "id": "NZDiT33r5FQV",
        "outputId": "3687b509-b240-4449-c0c7-341c1b7cb603"
      },
      "execution_count": 168,
      "outputs": [
        {
          "output_type": "stream",
          "name": "stdout",
          "text": [
            "[56]\n",
            "[ 1  4 56  8]\n"
          ]
        }
      ]
    },
    {
      "cell_type": "code",
      "source": [
        "#view and copy\n",
        "arr4=np.array([1,2,3,4,5])\n",
        "view=arr4.view()\n",
        "view[0]=10\n",
        "print(view)\n",
        "copy=arr4.copy()\n",
        "copy[0]=20\n",
        "print(arr4)\n",
        "print(copy)"
      ],
      "metadata": {
        "colab": {
          "base_uri": "https://localhost:8080/"
        },
        "id": "GgLHE2246STO",
        "outputId": "29cb6bd2-ddda-4f4c-d167-a5eb334e7555"
      },
      "execution_count": 170,
      "outputs": [
        {
          "output_type": "stream",
          "name": "stdout",
          "text": [
            "[10  2  3  4  5]\n",
            "[10  2  3  4  5]\n",
            "[20  2  3  4  5]\n"
          ]
        }
      ]
    },
    {
      "cell_type": "code",
      "source": [
        "#saving and loading\n",
        "arr5=np.array([1,2,3,4,5])\n",
        "np.save(\"arr5.npy\",arr5)\n",
        "loaded=np.load(\"arr5.npy\")\n",
        "print(loaded)"
      ],
      "metadata": {
        "colab": {
          "base_uri": "https://localhost:8080/"
        },
        "id": "Xue8nPK37WHV",
        "outputId": "ad09480a-d038-41bb-8122-f36eac1883ac"
      },
      "execution_count": 173,
      "outputs": [
        {
          "output_type": "stream",
          "name": "stdout",
          "text": [
            "[1 2 3 4 5]\n"
          ]
        }
      ]
    },
    {
      "cell_type": "code",
      "source": [
        "load=np.load(\"arr5.npy\")\n",
        "print(load)"
      ],
      "metadata": {
        "colab": {
          "base_uri": "https://localhost:8080/"
        },
        "id": "tzBseGWk70PL",
        "outputId": "6cec8163-df54-423f-aaab-fa80cf4b1dcf"
      },
      "execution_count": 174,
      "outputs": [
        {
          "output_type": "stream",
          "name": "stdout",
          "text": [
            "[1 2 3 4 5]\n"
          ]
        }
      ]
    },
    {
      "cell_type": "markdown",
      "source": [
        "TasksArray Creation\n",
        "Create a 1D array of numbers from 10 to 50.\n",
        "Create a 3x3 array of random numbers between 0 and 1.\n",
        "Array Attributes\n",
        "Find the shape, size, and data type of the array you created in the previous task.\n",
        "Basic Operations\n",
        "Add 5 to every element of a 1D array.\n",
        "Multiply two 2D arrays element-wise.\n",
        "Indexing and Slicing\n",
        "Create a 5x5 array of integers from 1 to 25. Extract:\n",
        "The first row.\n",
        "The last column.\n",
        "A subarray of the first three rows and first two columns.\n",
        "Aggregation\n",
        "Create a 10-element array of random integers between 10 and 100. Find:\n",
        "The maximum value.\n",
        "The minimum value.\n",
        "The mean and standard deviation.\n",
        "Reshaping\n",
        "Convert a 1D array of numbers from 1 to 12 into a 3x4 matrix.\n",
        "Broadcasting\n",
        "Create a 3x3 matrix of ones. Add a 1D array [1, 2, 3] to each row.\n",
        "Filtering\n",
        "Create a 1D array of random integers between 1 and 50. Extract all elements that are divisible by 5.\n",
        "Matrix Multiplication\n",
        "Create two 2x2 matrices and perform matrix multiplication.\n",
        "Advanced Indexing\n",
        "Given a 4x4 array, use fancy indexing to extract the diagonal elements."
      ],
      "metadata": {
        "id": "ACqiv9pM8Gp1"
      }
    },
    {
      "cell_type": "code",
      "source": [
        "# Create a 1D array of numbers from 10 to 50.\n",
        "ar1=np.arange(10,51)\n",
        "print(ar1)\n",
        "ar2=np.random.random((3,3))\n",
        "print(ar2)"
      ],
      "metadata": {
        "colab": {
          "base_uri": "https://localhost:8080/"
        },
        "id": "UdmduJe68Ia7",
        "outputId": "b0990035-40c9-4e2b-bdc8-38b2cd1af399"
      },
      "execution_count": 178,
      "outputs": [
        {
          "output_type": "stream",
          "name": "stdout",
          "text": [
            "[10 11 12 13 14 15 16 17 18 19 20 21 22 23 24 25 26 27 28 29 30 31 32 33\n",
            " 34 35 36 37 38 39 40 41 42 43 44 45 46 47 48 49 50]\n",
            "[[0.40107321 0.72675683 0.86674511]\n",
            " [0.49313524 0.67137634 0.30383886]\n",
            " [0.73366275 0.61895388 0.48692072]]\n"
          ]
        }
      ]
    },
    {
      "cell_type": "code",
      "source": [
        "print(\"shape:\",ar2.shape)\n",
        "print(\"size:\",ar2.size)\n",
        "print(\"data type:\",ar2.dtype)\n",
        "print(\"no of dim:\",ar2.ndim)"
      ],
      "metadata": {
        "colab": {
          "base_uri": "https://localhost:8080/"
        },
        "id": "7LkcQ0Bz9O6g",
        "outputId": "0f7fec70-6391-4e21-8ca8-7c3c9c4a2c5e"
      },
      "execution_count": 179,
      "outputs": [
        {
          "output_type": "stream",
          "name": "stdout",
          "text": [
            "shape: (3, 3)\n",
            "size: 9\n",
            "data type: float64\n",
            "no of dim: 2\n"
          ]
        }
      ]
    },
    {
      "cell_type": "code",
      "source": [
        "# Add 5 to every element of a 1D array.\n",
        "new_ar1=ar1+5\n",
        "print(new_ar1)\n",
        "\n",
        "# Multiply two 2D arrays element-wise.\n",
        "ar3=np.array([[1,2,3],[4,5,6]])\n",
        "ar4=np.array([[1,2,3],[4,5,6]])\n",
        "mul_ar=ar3*ar4\n",
        "print(mul_ar)"
      ],
      "metadata": {
        "colab": {
          "base_uri": "https://localhost:8080/"
        },
        "id": "4D3xr3029U-n",
        "outputId": "c3943ad9-7666-4e23-bf72-d100296d6c77"
      },
      "execution_count": 182,
      "outputs": [
        {
          "output_type": "stream",
          "name": "stdout",
          "text": [
            "[15 16 17 18 19 20 21 22 23 24 25 26 27 28 29 30 31 32 33 34 35 36 37 38\n",
            " 39 40 41 42 43 44 45 46 47 48 49 50 51 52 53 54 55]\n",
            "[[ 1  4  9]\n",
            " [16 25 36]]\n"
          ]
        }
      ]
    },
    {
      "cell_type": "code",
      "source": [
        "# Indexing and Slicing\n",
        "# Create a 5x5 array of integers from 1 to 25. Extract:\n",
        "# The first row.\n",
        "# The last column.\n",
        "# A subarray of the first three rows and first two columns.\n",
        "ar5=np.arange(1,26).reshape(5,5)\n",
        "print(ar5)\n",
        "print(ar5[0])\n",
        "print(ar5[:,-1])\n",
        "print(ar5[:3,:2])"
      ],
      "metadata": {
        "colab": {
          "base_uri": "https://localhost:8080/"
        },
        "id": "0FCPQ3AL-CM9",
        "outputId": "665f99ec-73b1-4943-fa7f-751194aa619a"
      },
      "execution_count": 201,
      "outputs": [
        {
          "output_type": "stream",
          "name": "stdout",
          "text": [
            "[[ 1  2  3  4  5]\n",
            " [ 6  7  8  9 10]\n",
            " [11 12 13 14 15]\n",
            " [16 17 18 19 20]\n",
            " [21 22 23 24 25]]\n",
            "[1 2 3 4 5]\n",
            "[ 5 10 15 20 25]\n",
            "[[ 1  2]\n",
            " [ 6  7]\n",
            " [11 12]]\n"
          ]
        }
      ]
    },
    {
      "cell_type": "code",
      "source": [
        "# Aggregation\n",
        "# Create a 10-element array of random integers between 10 and 100. Find:\n",
        "# The maximum value.\n",
        "# The minimum value.\n",
        "# The mean and standard deviation.\n",
        "ar6=np.random.randint(10,101,10)\n",
        "print(ar6)\n",
        "print(\"max:\",np.max(ar6))\n",
        "print(\"min:\",np.min(ar6))\n",
        "print(\"mean:\",np.mean(ar6))\n",
        "print(\"std:\",np.std(ar6))"
      ],
      "metadata": {
        "colab": {
          "base_uri": "https://localhost:8080/"
        },
        "id": "8ZK-9gm6-dyc",
        "outputId": "6b542854-6952-4cac-c0a5-cdb2ab5d2aa2"
      },
      "execution_count": 188,
      "outputs": [
        {
          "output_type": "stream",
          "name": "stdout",
          "text": [
            "[81 88 69 58 17 75 20 19 74 37]\n",
            "max: 88\n",
            "min: 17\n",
            "mean: 53.8\n",
            "std: 26.46809400013533\n"
          ]
        }
      ]
    },
    {
      "cell_type": "code",
      "source": [
        "# Reshaping\n",
        "# Convert a 1D array of numbers from 1 to 12 into a 3x4 matrix.\n",
        "ar7=np.arange(1,13).reshape(3,4)\n",
        "print(ar7)"
      ],
      "metadata": {
        "colab": {
          "base_uri": "https://localhost:8080/"
        },
        "id": "oy-fP0mH_J4H",
        "outputId": "38d1250f-d635-47ec-db16-2c13e1326067"
      },
      "execution_count": 189,
      "outputs": [
        {
          "output_type": "stream",
          "name": "stdout",
          "text": [
            "[[ 1  2  3  4]\n",
            " [ 5  6  7  8]\n",
            " [ 9 10 11 12]]\n"
          ]
        }
      ]
    },
    {
      "cell_type": "code",
      "source": [
        "# Broadcasting\n",
        "# Create a 3x3 matrix of ones. Add a 1D array [1, 2, 3] to each row.\n",
        "ar8=np.ones((3,3),dtype=int)\n",
        "print(ar8)\n",
        "ar9=np.array([1,2,3])\n",
        "print(ar9)\n",
        "ar8=ar8+ar9\n",
        "print(ar8)"
      ],
      "metadata": {
        "colab": {
          "base_uri": "https://localhost:8080/"
        },
        "id": "QY6CmXgS_WF3",
        "outputId": "1f491b8b-d839-4d04-804f-b8af4503f0ff"
      },
      "execution_count": 193,
      "outputs": [
        {
          "output_type": "stream",
          "name": "stdout",
          "text": [
            "[[1 1 1]\n",
            " [1 1 1]\n",
            " [1 1 1]]\n",
            "[1 2 3]\n",
            "[[2 3 4]\n",
            " [2 3 4]\n",
            " [2 3 4]]\n"
          ]
        }
      ]
    },
    {
      "cell_type": "code",
      "source": [
        "# Filtering\n",
        "# Create a 1D array of random integers between 1 and 50. Extract all elements that are divisible by 5.\n",
        "ar10=np.random.randint(1,51,25)\n",
        "print(ar10)\n",
        "ar10=ar10[ar10%5==0]\n",
        "print(ar10)\n"
      ],
      "metadata": {
        "colab": {
          "base_uri": "https://localhost:8080/"
        },
        "id": "HpqSwHh__xcT",
        "outputId": "f2c55b22-ae22-46ca-ad05-2918a9ce625f"
      },
      "execution_count": 200,
      "outputs": [
        {
          "output_type": "stream",
          "name": "stdout",
          "text": [
            "[26 15 17 23 49 50 24  6 19 38  1 14 50 10 23 25 38 46 27 47  9 13 36 22\n",
            " 38]\n",
            "[15 50 50 10 25]\n"
          ]
        }
      ]
    },
    {
      "cell_type": "code",
      "source": [
        "# Matrix Multiplication\n",
        "# Create two 2x2 matrices and perform matrix multiplication.\n",
        "# Advanced Indexing\n",
        "# Given a 4x4 array, use fancy indexing to extract the diagonal elements.\n",
        "a1=np.array([[1,2],[3,4]])\n",
        "a2=np.array([[5,6],[1,2]])\n",
        "ar11=np.dot(a1,a2)\n",
        "print(ar11)\n",
        "ar12=np.random.randint(1,21,16).reshape(4,4)\n",
        "print(ar12)\n",
        "ar13=ar12[[0,1,2,3],[0,1,2,3]]\n",
        "print(ar13)\n"
      ],
      "metadata": {
        "colab": {
          "base_uri": "https://localhost:8080/"
        },
        "id": "IOYRypkOBAzH",
        "outputId": "3e7d2989-ef35-4943-ea76-2a507f97f035"
      },
      "execution_count": 203,
      "outputs": [
        {
          "output_type": "stream",
          "name": "stdout",
          "text": [
            "[[ 7 10]\n",
            " [19 26]]\n",
            "[[20 10  3  4]\n",
            " [16  7  8  9]\n",
            " [ 2 13 13  5]\n",
            " [ 3  1 13 20]]\n",
            "[20  7 13 20]\n"
          ]
        }
      ]
    },
    {
      "cell_type": "code",
      "source": [
        "b=ar12[[1,0,1,0],[0,1,2,0]] #Select elements(1,0),(0,1),(1,2) and(0,0)\n",
        "print(b)\n",
        "b=ar12[[1,0,1, 0]][:,[0,1,2,0]]\n",
        "print(b)\n"
      ],
      "metadata": {
        "colab": {
          "base_uri": "https://localhost:8080/"
        },
        "id": "f_mC2r88COvq",
        "outputId": "d882a5a0-b0c0-43e0-b9f2-6a1a9e2012b7"
      },
      "execution_count": 207,
      "outputs": [
        {
          "output_type": "stream",
          "name": "stdout",
          "text": [
            "[16 10  8 20]\n",
            "[[16  7  8 16]\n",
            " [20 10  3 20]\n",
            " [16  7  8 16]\n",
            " [20 10  3 20]]\n"
          ]
        }
      ]
    }
  ]
}